{
 "cells": [
  {
   "cell_type": "code",
   "execution_count": 3,
   "id": "cb2d761f-ce72-4849-a341-b08e0a0772b4",
   "metadata": {},
   "outputs": [
    {
     "name": "stdout",
     "output_type": "stream",
     "text": [
      "Requirement already satisfied: numpy in c:\\users\\sameera\\appdata\\local\\programs\\python\\python313\\lib\\site-packages (2.2.5)\n",
      "Requirement already satisfied: scipy in c:\\users\\sameera\\appdata\\local\\programs\\python\\python313\\lib\\site-packages (1.16.0)\n",
      "Requirement already satisfied: pandas in c:\\users\\sameera\\appdata\\local\\programs\\python\\python313\\lib\\site-packages (2.3.0)\n",
      "Requirement already satisfied: mne in c:\\users\\sameera\\appdata\\local\\programs\\python\\python313\\lib\\site-packages (1.10.2)\n",
      "Requirement already satisfied: scikit-learn in c:\\users\\sameera\\appdata\\local\\programs\\python\\python313\\lib\\site-packages (1.7.0)\n",
      "Requirement already satisfied: tensorflow in c:\\users\\sameera\\appdata\\local\\programs\\python\\python313\\lib\\site-packages (2.20.0)\n",
      "Requirement already satisfied: matplotlib in c:\\users\\sameera\\appdata\\local\\programs\\python\\python313\\lib\\site-packages (3.10.3)\n",
      "Requirement already satisfied: python-dateutil>=2.8.2 in c:\\users\\sameera\\appdata\\local\\programs\\python\\python313\\lib\\site-packages (from pandas) (2.9.0.post0)\n",
      "Requirement already satisfied: pytz>=2020.1 in c:\\users\\sameera\\appdata\\local\\programs\\python\\python313\\lib\\site-packages (from pandas) (2025.2)\n",
      "Requirement already satisfied: tzdata>=2022.7 in c:\\users\\sameera\\appdata\\local\\programs\\python\\python313\\lib\\site-packages (from pandas) (2025.2)\n",
      "Requirement already satisfied: decorator in c:\\users\\sameera\\appdata\\local\\programs\\python\\python313\\lib\\site-packages (from mne) (5.2.1)\n",
      "Requirement already satisfied: jinja2 in c:\\users\\sameera\\appdata\\local\\programs\\python\\python313\\lib\\site-packages (from mne) (3.1.6)\n",
      "Requirement already satisfied: lazy-loader>=0.3 in c:\\users\\sameera\\appdata\\local\\programs\\python\\python313\\lib\\site-packages (from mne) (0.4)\n",
      "Requirement already satisfied: packaging in c:\\users\\sameera\\appdata\\local\\programs\\python\\python313\\lib\\site-packages (from mne) (25.0)\n",
      "Requirement already satisfied: pooch>=1.5 in c:\\users\\sameera\\appdata\\local\\programs\\python\\python313\\lib\\site-packages (from mne) (1.8.2)\n",
      "Requirement already satisfied: tqdm in c:\\users\\sameera\\appdata\\local\\programs\\python\\python313\\lib\\site-packages (from mne) (4.67.1)\n",
      "Requirement already satisfied: joblib>=1.2.0 in c:\\users\\sameera\\appdata\\local\\programs\\python\\python313\\lib\\site-packages (from scikit-learn) (1.5.1)\n",
      "Requirement already satisfied: threadpoolctl>=3.1.0 in c:\\users\\sameera\\appdata\\local\\programs\\python\\python313\\lib\\site-packages (from scikit-learn) (3.6.0)\n",
      "Requirement already satisfied: absl-py>=1.0.0 in c:\\users\\sameera\\appdata\\local\\programs\\python\\python313\\lib\\site-packages (from tensorflow) (2.3.1)\n",
      "Requirement already satisfied: astunparse>=1.6.0 in c:\\users\\sameera\\appdata\\local\\programs\\python\\python313\\lib\\site-packages (from tensorflow) (1.6.3)\n",
      "Requirement already satisfied: flatbuffers>=24.3.25 in c:\\users\\sameera\\appdata\\local\\programs\\python\\python313\\lib\\site-packages (from tensorflow) (25.9.23)\n",
      "Requirement already satisfied: gast!=0.5.0,!=0.5.1,!=0.5.2,>=0.2.1 in c:\\users\\sameera\\appdata\\local\\programs\\python\\python313\\lib\\site-packages (from tensorflow) (0.6.0)\n",
      "Requirement already satisfied: google_pasta>=0.1.1 in c:\\users\\sameera\\appdata\\local\\programs\\python\\python313\\lib\\site-packages (from tensorflow) (0.2.0)\n",
      "Requirement already satisfied: libclang>=13.0.0 in c:\\users\\sameera\\appdata\\local\\programs\\python\\python313\\lib\\site-packages (from tensorflow) (18.1.1)\n",
      "Requirement already satisfied: opt_einsum>=2.3.2 in c:\\users\\sameera\\appdata\\local\\programs\\python\\python313\\lib\\site-packages (from tensorflow) (3.4.0)\n",
      "Requirement already satisfied: protobuf>=5.28.0 in c:\\users\\sameera\\appdata\\local\\programs\\python\\python313\\lib\\site-packages (from tensorflow) (6.33.0)\n",
      "Requirement already satisfied: requests<3,>=2.21.0 in c:\\users\\sameera\\appdata\\local\\programs\\python\\python313\\lib\\site-packages (from tensorflow) (2.32.3)\n",
      "Requirement already satisfied: setuptools in c:\\users\\sameera\\appdata\\local\\programs\\python\\python313\\lib\\site-packages (from tensorflow) (80.3.1)\n",
      "Requirement already satisfied: six>=1.12.0 in c:\\users\\sameera\\appdata\\local\\programs\\python\\python313\\lib\\site-packages (from tensorflow) (1.17.0)\n",
      "Requirement already satisfied: termcolor>=1.1.0 in c:\\users\\sameera\\appdata\\local\\programs\\python\\python313\\lib\\site-packages (from tensorflow) (3.1.0)\n",
      "Requirement already satisfied: typing_extensions>=3.6.6 in c:\\users\\sameera\\appdata\\local\\programs\\python\\python313\\lib\\site-packages (from tensorflow) (4.13.2)\n",
      "Requirement already satisfied: wrapt>=1.11.0 in c:\\users\\sameera\\appdata\\local\\programs\\python\\python313\\lib\\site-packages (from tensorflow) (2.0.0)\n",
      "Requirement already satisfied: grpcio<2.0,>=1.24.3 in c:\\users\\sameera\\appdata\\local\\programs\\python\\python313\\lib\\site-packages (from tensorflow) (1.76.0)\n",
      "Requirement already satisfied: tensorboard~=2.20.0 in c:\\users\\sameera\\appdata\\local\\programs\\python\\python313\\lib\\site-packages (from tensorflow) (2.20.0)\n",
      "Requirement already satisfied: keras>=3.10.0 in c:\\users\\sameera\\appdata\\local\\programs\\python\\python313\\lib\\site-packages (from tensorflow) (3.11.3)\n",
      "Requirement already satisfied: h5py>=3.11.0 in c:\\users\\sameera\\appdata\\local\\programs\\python\\python313\\lib\\site-packages (from tensorflow) (3.15.1)\n",
      "Requirement already satisfied: ml_dtypes<1.0.0,>=0.5.1 in c:\\users\\sameera\\appdata\\local\\programs\\python\\python313\\lib\\site-packages (from tensorflow) (0.5.3)\n",
      "Requirement already satisfied: charset-normalizer<4,>=2 in c:\\users\\sameera\\appdata\\local\\programs\\python\\python313\\lib\\site-packages (from requests<3,>=2.21.0->tensorflow) (3.4.2)\n",
      "Requirement already satisfied: idna<4,>=2.5 in c:\\users\\sameera\\appdata\\local\\programs\\python\\python313\\lib\\site-packages (from requests<3,>=2.21.0->tensorflow) (3.10)\n",
      "Requirement already satisfied: urllib3<3,>=1.21.1 in c:\\users\\sameera\\appdata\\local\\programs\\python\\python313\\lib\\site-packages (from requests<3,>=2.21.0->tensorflow) (2.4.0)\n",
      "Requirement already satisfied: certifi>=2017.4.17 in c:\\users\\sameera\\appdata\\local\\programs\\python\\python313\\lib\\site-packages (from requests<3,>=2.21.0->tensorflow) (2025.4.26)\n",
      "Requirement already satisfied: markdown>=2.6.8 in c:\\users\\sameera\\appdata\\local\\programs\\python\\python313\\lib\\site-packages (from tensorboard~=2.20.0->tensorflow) (3.9)\n",
      "Requirement already satisfied: pillow in c:\\users\\sameera\\appdata\\local\\programs\\python\\python313\\lib\\site-packages (from tensorboard~=2.20.0->tensorflow) (11.2.1)\n",
      "Requirement already satisfied: tensorboard-data-server<0.8.0,>=0.7.0 in c:\\users\\sameera\\appdata\\local\\programs\\python\\python313\\lib\\site-packages (from tensorboard~=2.20.0->tensorflow) (0.7.2)\n",
      "Requirement already satisfied: werkzeug>=1.0.1 in c:\\users\\sameera\\appdata\\local\\programs\\python\\python313\\lib\\site-packages (from tensorboard~=2.20.0->tensorflow) (3.1.3)\n",
      "Requirement already satisfied: contourpy>=1.0.1 in c:\\users\\sameera\\appdata\\local\\programs\\python\\python313\\lib\\site-packages (from matplotlib) (1.3.2)\n",
      "Requirement already satisfied: cycler>=0.10 in c:\\users\\sameera\\appdata\\local\\programs\\python\\python313\\lib\\site-packages (from matplotlib) (0.12.1)\n",
      "Requirement already satisfied: fonttools>=4.22.0 in c:\\users\\sameera\\appdata\\local\\programs\\python\\python313\\lib\\site-packages (from matplotlib) (4.58.0)\n",
      "Requirement already satisfied: kiwisolver>=1.3.1 in c:\\users\\sameera\\appdata\\local\\programs\\python\\python313\\lib\\site-packages (from matplotlib) (1.4.8)\n",
      "Requirement already satisfied: pyparsing>=2.3.1 in c:\\users\\sameera\\appdata\\local\\programs\\python\\python313\\lib\\site-packages (from matplotlib) (3.2.3)\n",
      "Requirement already satisfied: wheel<1.0,>=0.23.0 in c:\\users\\sameera\\appdata\\local\\programs\\python\\python313\\lib\\site-packages (from astunparse>=1.6.0->tensorflow) (0.45.1)\n",
      "Requirement already satisfied: rich in c:\\users\\sameera\\appdata\\local\\programs\\python\\python313\\lib\\site-packages (from keras>=3.10.0->tensorflow) (14.2.0)\n",
      "Requirement already satisfied: namex in c:\\users\\sameera\\appdata\\local\\programs\\python\\python313\\lib\\site-packages (from keras>=3.10.0->tensorflow) (0.1.0)\n",
      "Requirement already satisfied: optree in c:\\users\\sameera\\appdata\\local\\programs\\python\\python313\\lib\\site-packages (from keras>=3.10.0->tensorflow) (0.17.0)\n",
      "Requirement already satisfied: platformdirs>=2.5.0 in c:\\users\\sameera\\appdata\\local\\programs\\python\\python313\\lib\\site-packages (from pooch>=1.5->mne) (4.3.7)\n",
      "Requirement already satisfied: MarkupSafe>=2.1.1 in c:\\users\\sameera\\appdata\\local\\programs\\python\\python313\\lib\\site-packages (from werkzeug>=1.0.1->tensorboard~=2.20.0->tensorflow) (3.0.2)\n",
      "Requirement already satisfied: markdown-it-py>=2.2.0 in c:\\users\\sameera\\appdata\\local\\programs\\python\\python313\\lib\\site-packages (from rich->keras>=3.10.0->tensorflow) (4.0.0)\n",
      "Requirement already satisfied: pygments<3.0.0,>=2.13.0 in c:\\users\\sameera\\appdata\\local\\programs\\python\\python313\\lib\\site-packages (from rich->keras>=3.10.0->tensorflow) (2.19.1)\n",
      "Requirement already satisfied: mdurl~=0.1 in c:\\users\\sameera\\appdata\\local\\programs\\python\\python313\\lib\\site-packages (from markdown-it-py>=2.2.0->rich->keras>=3.10.0->tensorflow) (0.1.2)\n",
      "Requirement already satisfied: colorama in c:\\users\\sameera\\appdata\\local\\programs\\python\\python313\\lib\\site-packages (from tqdm->mne) (0.4.6)\n"
     ]
    },
    {
     "name": "stderr",
     "output_type": "stream",
     "text": [
      "\n",
      "[notice] A new release of pip is available: 25.1.1 -> 25.2\n",
      "[notice] To update, run: python.exe -m pip install --upgrade pip\n"
     ]
    }
   ],
   "source": [
    "!pip install numpy scipy pandas mne scikit-learn tensorflow matplotlib"
   ]
  },
  {
   "cell_type": "code",
   "execution_count": 15,
   "id": "78770f41-d2f6-4c3e-b252-412a24461241",
   "metadata": {},
   "outputs": [
    {
     "name": "stdout",
     "output_type": "stream",
     "text": [
      "Requirement already satisfied: pip in c:\\users\\sameera\\appdata\\local\\programs\\python\\python313\\lib\\site-packages (25.1.1)\n",
      "Collecting pip\n",
      "  Using cached pip-25.2-py3-none-any.whl.metadata (4.7 kB)\n",
      "Using cached pip-25.2-py3-none-any.whl (1.8 MB)\n",
      "Installing collected packages: pip\n",
      "  Attempting uninstall: pip\n",
      "    Found existing installation: pip 25.1.1\n",
      "    Uninstalling pip-25.1.1:\n",
      "      Successfully uninstalled pip-25.1.1\n",
      "Successfully installed pip-25.2\n",
      "Note: you may need to restart the kernel to use updated packages.\n"
     ]
    }
   ],
   "source": [
    "pip install --upgrade pip"
   ]
  },
  {
   "cell_type": "code",
   "execution_count": 19,
   "id": "47ff7a9c-881f-41a2-a210-1061f67d3c2d",
   "metadata": {},
   "outputs": [
    {
     "name": "stdout",
     "output_type": "stream",
     "text": [
      "Loading: s01.dat\n",
      "Loading: s02.dat\n",
      "Loading: s03.dat\n",
      "Loading: s04.dat\n",
      "Loading: s05.dat\n",
      "Loading: s06.dat\n",
      "Loading: s07.dat\n",
      "Loading: s08.dat\n",
      "Loading: s09.dat\n",
      "Loading: s10.dat\n",
      "Loading: s11.dat\n",
      "Loading: s12.dat\n",
      "Loading: s13.dat\n",
      "Loading: s14.dat\n",
      "Loading: s15.dat\n",
      "Loading: s16.dat\n",
      "Loading: s17.dat\n",
      "Loading: s18.dat\n",
      "Loading: s19.dat\n",
      "Loading: s20.dat\n",
      "Loading: s21.dat\n",
      "Loading: s22.dat\n",
      "Loading: s23.dat\n",
      "Loading: s24.dat\n",
      "Loading: s25.dat\n",
      "Loading: s26.dat\n",
      "Loading: s27.dat\n",
      "Loading: s28.dat\n",
      "Loading: s29.dat\n",
      "Loading: s30.dat\n",
      "Loading: s31.dat\n",
      "Loading: s32.dat\n",
      "\n",
      "Data Loaded Successfully!\n",
      "Total EEG trials (X) : (1280, 32, 8064)\n",
      "Total Labels (Y) : (1280,)\n"
     ]
    }
   ],
   "source": [
    "import numpy as np\n",
    "import os\n",
    "import pickle\n",
    "\n",
    "# configutation\n",
    "DATA_PATH = r\"C:\\Users\\Sameera\\.cache\\kagglehub\\datasets\\manh123df\\deap-dataset\\versions\\1\\deap-dataset\\data_preprocessed_python\"\n",
    "\n",
    "VALENCE_THRESHOLD = 5.0 # High vs low valance\n",
    "TIME_WINDOW = 60 # Duration per trail in seconds\n",
    "SAMPLING_RATE = 128 # Hz\n",
    "\n",
    "# Load all subjects' data\n",
    "subject_files = sorted([f for f in os.listdir(DATA_PATH) if f.endswith('.dat')])\n",
    "\n",
    "all_data = []\n",
    "all_labels = []\n",
    "\n",
    "for file_name in subject_files:\n",
    "    file_path = os.path.join(DATA_PATH, file_name)\n",
    "    print(f\"Loading: {file_name}\")\n",
    "\n",
    "    # Each .dat file is a pickled Python dictionary\n",
    "    with open(file_path, 'rb') as f:\n",
    "        subject_data = pickle.load(f, encoding='latin1')\n",
    "\n",
    "    # Extract EEG data (first 32 channles)\n",
    "    eeg_data = subject_data['data'][:, 0:32, :] # shape: (40, 32, 8064)\n",
    "\n",
    "    # Extract labels (valence, arousal, dominance, liking)\n",
    "    labels = subject_data['labels']\n",
    "\n",
    "    # Binary valence labels (0 = Low, 1 = High)\n",
    "    valence_labels = (labels[:, 0] >= VALENCE_THRESHOLD).astype(int)\n",
    "\n",
    "    all_data.append(eeg_data)\n",
    "    all_labels.append(valence_labels)\n",
    "\n",
    "# combine all subjects\n",
    "X = np.concatenate(all_data, axis = 0) # shape : (32 subjects * 40 trials, 32, 8064)\n",
    "Y = np.concatenate(all_labels, axis = 0) # shape : (32 subjects * 40 trails)\n",
    "\n",
    "print(\"\\nData Loaded Successfully!\")\n",
    "print(f\"Total EEG trials (X) : {X.shape}\")\n",
    "print(f\"Total Labels (Y) : {Y.shape}\")"
   ]
  },
  {
   "cell_type": "code",
   "execution_count": null,
   "id": "45495144-bb46-4808-902a-245f4b3d6667",
   "metadata": {},
   "outputs": [],
   "source": []
  }
 ],
 "metadata": {
  "kernelspec": {
   "display_name": "Python 3 (ipykernel)",
   "language": "python",
   "name": "python3"
  },
  "language_info": {
   "codemirror_mode": {
    "name": "ipython",
    "version": 3
   },
   "file_extension": ".py",
   "mimetype": "text/x-python",
   "name": "python",
   "nbconvert_exporter": "python",
   "pygments_lexer": "ipython3",
   "version": "3.13.3"
  }
 },
 "nbformat": 4,
 "nbformat_minor": 5
}
